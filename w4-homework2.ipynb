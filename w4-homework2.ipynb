{
 "cells": [
  {
   "cell_type": "code",
   "execution_count": null,
   "id": "80406ea3",
   "metadata": {},
   "outputs": [],
   "source": [
    "Exercise #1\n",
    "Write a function that takes a list of integers and returns the median value"
   ]
  },
  {
   "cell_type": "code",
   "execution_count": null,
   "id": "ad798d81",
   "metadata": {},
   "outputs": [],
   "source": [
    "def get_median(lst):\n",
    "    lst_sorted = lst.sort()\n",
    "    if len(lst) % 2 != 0:\n",
    "        m = int((len(lst)+1)/2 - 1)\n",
    "        return lst[m]\n",
    "    else:\n",
    "        m1 = int(len(lst)/2 - 1)\n",
    "        m2 = int(len(lst)/2)\n",
    "        return (lst[m1]+lst[m2])/2\n",
    "lst = [3, 1, 4, 9, 2, 5, 3, 6,3,7,5]\n",
    "print(get_median(lst))\n"
   ]
  },
  {
   "cell_type": "code",
   "execution_count": null,
   "id": "1ce97a0b",
   "metadata": {},
   "outputs": [],
   "source": [
    "Exercise #2\n",
    "¶\n",
    "Create a function that counts how many distinct words are in the string below, then outputs a dictionary with the words as the key and the value as the amount of times that word appears in the string.\n",
    "\n",
    "Example Output:{'in': 1, 'computing': 1, 'a': 5, ...}"
   ]
  },
  {
   "cell_type": "code",
   "execution_count": null,
   "id": "5b04ffb0",
   "metadata": {},
   "outputs": [],
   "source": [
    "\n",
    "def count(str):\n",
    "    counts = dict()\n",
    "    words = str.split()\n",
    "\n",
    "    for word in words:\n",
    "        if word in counts:\n",
    "            counts[word] += 1\n",
    "        else:\n",
    "            counts[word] = 1\n",
    "\n",
    "    return counts\n",
    "   \n",
    "print( count('In computing, a hash table hash map is a data structure which implements an associative array abstract data type, a structure that can map keys to values. A hash table uses a hash function to compute an index into an array of buckets or slots from which the desired value can be found')) "
   ]
  },
  {
   "cell_type": "code",
   "execution_count": null,
   "id": "9a13a506",
   "metadata": {},
   "outputs": [],
   "source": [
    "Exercise #3\n",
    "Write a function implementing a Linear Search Algorithm. A linear search is a method for finding an element within a list. It sequentially checks each element of the list until a match is found or the whole list has been searched. If you do not find a match, return -1"
   ]
  },
  {
   "cell_type": "code",
   "execution_count": null,
   "id": "c3ebc5f1",
   "metadata": {},
   "outputs": [],
   "source": [
    "def lin_search(list,n, x):\n",
    "    for i in range(0,n):\n",
    "        if (list[i]==x):\n",
    "            return i\n",
    "        else:\n",
    "            return -1\n",
    "list=[1,3,5,4,6,8]\n",
    "print(lin.search(list,n,x))"
   ]
  }
 ],
 "metadata": {
  "kernelspec": {
   "display_name": "Python 3 (ipykernel)",
   "language": "python",
   "name": "python3"
  },
  "language_info": {
   "codemirror_mode": {
    "name": "ipython",
    "version": 3
   },
   "file_extension": ".py",
   "mimetype": "text/x-python",
   "name": "python",
   "nbconvert_exporter": "python",
   "pygments_lexer": "ipython3",
   "version": "3.10.9"
  }
 },
 "nbformat": 4,
 "nbformat_minor": 5
}
